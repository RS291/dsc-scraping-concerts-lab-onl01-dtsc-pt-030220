{
 "cells": [
  {
   "cell_type": "markdown",
   "metadata": {},
   "source": [
    "# Scraping Concerts - Lab\n",
    "\n",
    "## Introduction\n",
    "\n",
    "Now that you've seen how to scrape a simple website, it's time to again practice those skills on a full-fledged site!\n",
    "In this lab, you'll practice your scraping skills on a music website: https://www.residentadvisor.net.\n",
    "## Objectives\n",
    "\n",
    "You will be able to:\n",
    "* Create a full scraping pipeline that involves traversing over many pages of a website, dealing with errors and storing data"
   ]
  },
  {
   "cell_type": "markdown",
   "metadata": {},
   "source": [
    "## View the Website\n",
    "\n",
    "For this lab, you'll be scraping the https://www.residentadvisor.net website. Start by navigating to the events page [here](https://www.residentadvisor.net/events) in your browser.\n",
    "\n",
    "<img src=\"images/ra.png\">"
   ]
  },
  {
   "cell_type": "code",
   "execution_count": 67,
   "metadata": {},
   "outputs": [],
   "source": [
    "from bs4 import BeautifulSoup\n",
    "import requests\n",
    "import re\n",
    "import numpy as np\n",
    "import shutil\n",
    "import matplotlib.pyplot as plt\n",
    "import matplotlib.image as mpimg\n",
    "import pandas as pd\n",
    "from IPython.display import Image, HTML\n",
    "import time"
   ]
  },
  {
   "cell_type": "code",
   "execution_count": 68,
   "metadata": {},
   "outputs": [],
   "source": [
    "# Load the https://www.residentadvisor.net/events page in your browser.\n",
    "html_page = requests.get('https://www.residentadvisor.net/events')\n",
    "soup = BeautifulSoup(html_page.content, 'html.parser')\n"
   ]
  },
  {
   "cell_type": "markdown",
   "metadata": {},
   "source": [
    "## Open the Inspect Element Feature\n",
    "\n",
    "Next, open the inspect element feature from your web browser in order to preview the underlying HTML associated with the page."
   ]
  },
  {
   "cell_type": "code",
   "execution_count": null,
   "metadata": {},
   "outputs": [],
   "source": [
    "# Open the inspect element feature in your browser"
   ]
  },
  {
   "cell_type": "markdown",
   "metadata": {},
   "source": [
    "## Write a Function to Scrape all of the Events on the Given Page Events Page\n",
    "\n",
    "The function should return a Pandas DataFrame with columns for the Event_Name, Venue, Event_Date and Number_of_Attendees."
   ]
  },
  {
   "cell_type": "code",
   "execution_count": 69,
   "metadata": {},
   "outputs": [],
   "source": [
    "events = soup.find('div', id=\"event-listing\")\n",
    "#events"
   ]
  },
  {
   "cell_type": "code",
   "execution_count": 70,
   "metadata": {},
   "outputs": [],
   "source": [
    "evententries = events.findAll('li')\n",
    "#evententries"
   ]
  },
  {
   "cell_type": "code",
   "execution_count": 71,
   "metadata": {},
   "outputs": [
    {
     "data": {
      "text/html": [
       "<div>\n",
       "<style scoped>\n",
       "    .dataframe tbody tr th:only-of-type {\n",
       "        vertical-align: middle;\n",
       "    }\n",
       "\n",
       "    .dataframe tbody tr th {\n",
       "        vertical-align: top;\n",
       "    }\n",
       "\n",
       "    .dataframe thead th {\n",
       "        text-align: right;\n",
       "    }\n",
       "</style>\n",
       "<table border=\"1\" class=\"dataframe\">\n",
       "  <thead>\n",
       "    <tr style=\"text-align: right;\">\n",
       "      <th></th>\n",
       "      <th>0</th>\n",
       "      <th>1</th>\n",
       "      <th>2</th>\n",
       "      <th>3</th>\n",
       "    </tr>\n",
       "  </thead>\n",
       "  <tbody>\n",
       "    <tr>\n",
       "      <td>0</td>\n",
       "      <td>Meow Wolf Dark Palace</td>\n",
       "      <td>National Western Complex</td>\n",
       "      <td>Thu, 09 Apr 2020 /</td>\n",
       "      <td>9.0</td>\n",
       "    </tr>\n",
       "    <tr>\n",
       "      <td>1</td>\n",
       "      <td>Meow Wolf Dark Palace</td>\n",
       "      <td>National Western Complex</td>\n",
       "      <td>Fri, 10 Apr 2020 /</td>\n",
       "      <td>9.0</td>\n",
       "    </tr>\n",
       "    <tr>\n",
       "      <td>2</td>\n",
       "      <td>William Black</td>\n",
       "      <td>Bluebird Theater</td>\n",
       "      <td>Fri, 10 Apr 2020 /</td>\n",
       "      <td>1.0</td>\n",
       "    </tr>\n",
       "    <tr>\n",
       "      <td>3</td>\n",
       "      <td>Vincent</td>\n",
       "      <td>Temple Nightclub</td>\n",
       "      <td>Fri, 10 Apr 2020 /</td>\n",
       "      <td>NaN</td>\n",
       "    </tr>\n",
       "    <tr>\n",
       "      <td>4</td>\n",
       "      <td>Meow Wolf Dark Palace</td>\n",
       "      <td>National Western Complex</td>\n",
       "      <td>Sat, 11 Apr 2020 /</td>\n",
       "      <td>9.0</td>\n",
       "    </tr>\n",
       "    <tr>\n",
       "      <td>5</td>\n",
       "      <td>Sofi Tukker</td>\n",
       "      <td>Ogden Theatre</td>\n",
       "      <td>Wed, 15 Apr 2020 /</td>\n",
       "      <td>5.0</td>\n",
       "    </tr>\n",
       "  </tbody>\n",
       "</table>\n",
       "</div>"
      ],
      "text/plain": [
       "                       0                         1                   2    3\n",
       "0  Meow Wolf Dark Palace  National Western Complex  Thu, 09 Apr 2020 /  9.0\n",
       "1  Meow Wolf Dark Palace  National Western Complex  Fri, 10 Apr 2020 /  9.0\n",
       "2          William Black          Bluebird Theater  Fri, 10 Apr 2020 /  1.0\n",
       "3                Vincent          Temple Nightclub  Fri, 10 Apr 2020 /  NaN\n",
       "4  Meow Wolf Dark Palace  National Western Complex  Sat, 11 Apr 2020 /  9.0\n",
       "5            Sofi Tukker             Ogden Theatre  Wed, 15 Apr 2020 /  5.0"
      ]
     },
     "execution_count": 71,
     "metadata": {},
     "output_type": "execute_result"
    }
   ],
   "source": [
    "rows = []\n",
    "for entry in evententries: # iterate through evententries and scrape useful data \n",
    "    date = entry.find('p', class_=\"eventDate date\") # pull date from event date class \n",
    "    event = entry.find('h1', class_=\"event-title\") # pull title from event header\n",
    "    if event:\n",
    "        details = event.text.split(' at ') # splits event name string between act and venue\n",
    "        event_name = details[0].strip() # declares former part of string as event name\n",
    "        venue = details[1].strip() # declares latter part of string as venue name\n",
    "        try: # pulls amount of people confirmed to attend the show by searching for attending class and declaring it an int\n",
    "            n_attendees = int(re.match(\"(\\d)\", entry.find('p', class_=\"attending\").text)[0]) \n",
    "        except: # if no attending class exists(no confirmed attendees), declare NaN\n",
    "            n_attendees = np.nan\n",
    "        rows.append([event_name, venue, cur_date, n_attendees]) # append the rows with data; name, venue, event date, # of attendees\n",
    "    elif date:\n",
    "        cur_date = date.text # takes date text from above if the event isn't the current date\n",
    "    else: \n",
    "        continue # continue to next iteration\n",
    "df = pd.DataFrame(rows) # plug row data into pandas dataframe\n",
    "df"
   ]
  },
  {
   "cell_type": "code",
   "execution_count": 72,
   "metadata": {},
   "outputs": [],
   "source": [
    "def scrape_events(events_page_url): #copy steps from above into one big function\n",
    "    html_page = requests.get(events_page_url)\n",
    "    soup = BeautifulSoup(html_page.content, 'html.parser')\n",
    "    #events = soup.find('div', id=\"event-listing\")\n",
    "    evententries = events.findAll('li')\n",
    "    rows = []\n",
    "    for entry in evententries: # iterate through evententries and scrape useful data \n",
    "        date = entry.find('p', class_=\"eventDate date\") # pull date from event date class \n",
    "        event = entry.find('h1', class_=\"event-title\") # pull title from event header\n",
    "        if event:\n",
    "            details = event.text.split(' at ') # splits event name string between act and venue\n",
    "            event_name = details[0].strip() # declares former part of string as event name\n",
    "            venue = details[1].strip() # declares latter part of string as venue name\n",
    "            try: # pulls amount of people confirmed to attend the show by searching for attending class and declaring it an int\n",
    "                n_attendees = int(re.match(\"(\\d)\", entry.find('p', class_=\"attending\").text)[0]) \n",
    "            except: # if no attending class exists(no confirmed attendees), declare NaN\n",
    "                n_attendees = np.nan\n",
    "            rows.append([event_name, venue, cur_date, n_attendees]) # append the rows with data; name, venue, event date, # of attendees\n",
    "        elif date:\n",
    "            cur_date = date.text # takes date text from above if the event isn't the current date\n",
    "        else: \n",
    "            continue # continue to next iteration\n",
    "    df = pd.DataFrame(rows) # plug row data into pandas dataframe\n",
    "    df\n",
    "    df.columns = [\"Event_Name\", \"Venue\", \"Event_Date\", \"Number_of_Attendees\"]\n",
    "    return df"
   ]
  },
  {
   "cell_type": "code",
   "execution_count": 73,
   "metadata": {},
   "outputs": [
    {
     "data": {
      "text/html": [
       "<div>\n",
       "<style scoped>\n",
       "    .dataframe tbody tr th:only-of-type {\n",
       "        vertical-align: middle;\n",
       "    }\n",
       "\n",
       "    .dataframe tbody tr th {\n",
       "        vertical-align: top;\n",
       "    }\n",
       "\n",
       "    .dataframe thead th {\n",
       "        text-align: right;\n",
       "    }\n",
       "</style>\n",
       "<table border=\"1\" class=\"dataframe\">\n",
       "  <thead>\n",
       "    <tr style=\"text-align: right;\">\n",
       "      <th></th>\n",
       "      <th>Event_Name</th>\n",
       "      <th>Venue</th>\n",
       "      <th>Event_Date</th>\n",
       "      <th>Number_of_Attendees</th>\n",
       "    </tr>\n",
       "  </thead>\n",
       "  <tbody>\n",
       "    <tr>\n",
       "      <td>0</td>\n",
       "      <td>Meow Wolf Dark Palace</td>\n",
       "      <td>National Western Complex</td>\n",
       "      <td>Thu, 09 Apr 2020 /</td>\n",
       "      <td>9.0</td>\n",
       "    </tr>\n",
       "    <tr>\n",
       "      <td>1</td>\n",
       "      <td>Meow Wolf Dark Palace</td>\n",
       "      <td>National Western Complex</td>\n",
       "      <td>Fri, 10 Apr 2020 /</td>\n",
       "      <td>9.0</td>\n",
       "    </tr>\n",
       "    <tr>\n",
       "      <td>2</td>\n",
       "      <td>William Black</td>\n",
       "      <td>Bluebird Theater</td>\n",
       "      <td>Fri, 10 Apr 2020 /</td>\n",
       "      <td>1.0</td>\n",
       "    </tr>\n",
       "    <tr>\n",
       "      <td>3</td>\n",
       "      <td>Vincent</td>\n",
       "      <td>Temple Nightclub</td>\n",
       "      <td>Fri, 10 Apr 2020 /</td>\n",
       "      <td>NaN</td>\n",
       "    </tr>\n",
       "    <tr>\n",
       "      <td>4</td>\n",
       "      <td>Meow Wolf Dark Palace</td>\n",
       "      <td>National Western Complex</td>\n",
       "      <td>Sat, 11 Apr 2020 /</td>\n",
       "      <td>9.0</td>\n",
       "    </tr>\n",
       "    <tr>\n",
       "      <td>5</td>\n",
       "      <td>Sofi Tukker</td>\n",
       "      <td>Ogden Theatre</td>\n",
       "      <td>Wed, 15 Apr 2020 /</td>\n",
       "      <td>5.0</td>\n",
       "    </tr>\n",
       "  </tbody>\n",
       "</table>\n",
       "</div>"
      ],
      "text/plain": [
       "              Event_Name                     Venue          Event_Date  \\\n",
       "0  Meow Wolf Dark Palace  National Western Complex  Thu, 09 Apr 2020 /   \n",
       "1  Meow Wolf Dark Palace  National Western Complex  Fri, 10 Apr 2020 /   \n",
       "2          William Black          Bluebird Theater  Fri, 10 Apr 2020 /   \n",
       "3                Vincent          Temple Nightclub  Fri, 10 Apr 2020 /   \n",
       "4  Meow Wolf Dark Palace  National Western Complex  Sat, 11 Apr 2020 /   \n",
       "5            Sofi Tukker             Ogden Theatre  Wed, 15 Apr 2020 /   \n",
       "\n",
       "   Number_of_Attendees  \n",
       "0                  9.0  \n",
       "1                  9.0  \n",
       "2                  1.0  \n",
       "3                  NaN  \n",
       "4                  9.0  \n",
       "5                  5.0  "
      ]
     },
     "execution_count": 73,
     "metadata": {},
     "output_type": "execute_result"
    }
   ],
   "source": [
    "scrape_events(\"https://www.residentadvisor.net/events\")"
   ]
  },
  {
   "cell_type": "markdown",
   "metadata": {},
   "source": [
    "## Write a Function to Retrieve the URL for the Next Page"
   ]
  },
  {
   "cell_type": "code",
   "execution_count": 74,
   "metadata": {},
   "outputs": [
    {
     "data": {
      "text/plain": [
       "'/events/us/colorado/week/2020-04-16'"
      ]
     },
     "execution_count": 74,
     "metadata": {},
     "output_type": "execute_result"
    }
   ],
   "source": [
    "soup.find('a', attrs={'ga-event-action':'Next '}).attrs['href'] # pulls link extension from next button \n",
    "# PAY ATTENTION TO SPACING. THANKS. "
   ]
  },
  {
   "cell_type": "code",
   "execution_count": 97,
   "metadata": {},
   "outputs": [],
   "source": [
    "def next_page(url):\n",
    "    html_page = requests.get(url)\n",
    "    soup = BeautifulSoup(html_page.content, 'html.parser')\n",
    "    url_ext = soup.find('a', attrs={'ga-event-action':'Next '}).attrs['href']\n",
    "    next_page_url = \"https://www.residentadvisor.net\" + url_ext # need to use base URL or it duplicates part of url\n",
    "    #print(url_ext) commented this out, had to insert to debug where I was going wrong in this function\n",
    "    return next_page_url\n"
   ]
  },
  {
   "cell_type": "code",
   "execution_count": 93,
   "metadata": {},
   "outputs": [
    {
     "name": "stdout",
     "output_type": "stream",
     "text": [
      "/events/us/colorado/week/2020-04-16\n"
     ]
    },
    {
     "data": {
      "text/plain": [
       "'https://www.residentadvisor.net/events/us/colorado/week/2020-04-16'"
      ]
     },
     "execution_count": 93,
     "metadata": {},
     "output_type": "execute_result"
    }
   ],
   "source": [
    "next_page('https://www.residentadvisor.net/events')"
   ]
  },
  {
   "cell_type": "markdown",
   "metadata": {},
   "source": [
    "## Scrape the Next 1000 Events for Your Area\n",
    "\n",
    "Display the data sorted by the number of attendees. If there is a tie for the number attending, sort by event date."
   ]
  },
  {
   "cell_type": "code",
   "execution_count": 98,
   "metadata": {},
   "outputs": [
    {
     "name": "stdout",
     "output_type": "stream",
     "text": [
      "102\n"
     ]
    },
    {
     "data": {
      "text/html": [
       "<div>\n",
       "<style scoped>\n",
       "    .dataframe tbody tr th:only-of-type {\n",
       "        vertical-align: middle;\n",
       "    }\n",
       "\n",
       "    .dataframe tbody tr th {\n",
       "        vertical-align: top;\n",
       "    }\n",
       "\n",
       "    .dataframe thead th {\n",
       "        text-align: right;\n",
       "    }\n",
       "</style>\n",
       "<table border=\"1\" class=\"dataframe\">\n",
       "  <thead>\n",
       "    <tr style=\"text-align: right;\">\n",
       "      <th></th>\n",
       "      <th>Event_Name</th>\n",
       "      <th>Venue</th>\n",
       "      <th>Event_Date</th>\n",
       "      <th>Number_of_Attendees</th>\n",
       "    </tr>\n",
       "  </thead>\n",
       "  <tbody>\n",
       "    <tr>\n",
       "      <td>0</td>\n",
       "      <td>Meow Wolf Dark Palace</td>\n",
       "      <td>National Western Complex</td>\n",
       "      <td>Thu, 09 Apr 2020 /</td>\n",
       "      <td>9.0</td>\n",
       "    </tr>\n",
       "    <tr>\n",
       "      <td>1</td>\n",
       "      <td>Meow Wolf Dark Palace</td>\n",
       "      <td>National Western Complex</td>\n",
       "      <td>Fri, 10 Apr 2020 /</td>\n",
       "      <td>9.0</td>\n",
       "    </tr>\n",
       "    <tr>\n",
       "      <td>2</td>\n",
       "      <td>William Black</td>\n",
       "      <td>Bluebird Theater</td>\n",
       "      <td>Fri, 10 Apr 2020 /</td>\n",
       "      <td>1.0</td>\n",
       "    </tr>\n",
       "    <tr>\n",
       "      <td>3</td>\n",
       "      <td>Vincent</td>\n",
       "      <td>Temple Nightclub</td>\n",
       "      <td>Fri, 10 Apr 2020 /</td>\n",
       "      <td>NaN</td>\n",
       "    </tr>\n",
       "    <tr>\n",
       "      <td>4</td>\n",
       "      <td>Meow Wolf Dark Palace</td>\n",
       "      <td>National Western Complex</td>\n",
       "      <td>Sat, 11 Apr 2020 /</td>\n",
       "      <td>9.0</td>\n",
       "    </tr>\n",
       "  </tbody>\n",
       "</table>\n",
       "</div>"
      ],
      "text/plain": [
       "              Event_Name                     Venue          Event_Date  \\\n",
       "0  Meow Wolf Dark Palace  National Western Complex  Thu, 09 Apr 2020 /   \n",
       "1  Meow Wolf Dark Palace  National Western Complex  Fri, 10 Apr 2020 /   \n",
       "2          William Black          Bluebird Theater  Fri, 10 Apr 2020 /   \n",
       "3                Vincent          Temple Nightclub  Fri, 10 Apr 2020 /   \n",
       "4  Meow Wolf Dark Palace  National Western Complex  Sat, 11 Apr 2020 /   \n",
       "\n",
       "   Number_of_Attendees  \n",
       "0                  9.0  \n",
       "1                  9.0  \n",
       "2                  1.0  \n",
       "3                  NaN  \n",
       "4                  9.0  "
      ]
     },
     "execution_count": 98,
     "metadata": {},
     "output_type": "execute_result"
    }
   ],
   "source": [
    "#Your code here\n",
    "dfs = [] # create empty list of dataframes\n",
    "total_rows = 0 # set starting number of rows to 0\n",
    "current_url = 'https://www.residentadvisor.net/events/us/colorado'\n",
    "while total_rows <= 100: # kept throwing an error because there are less than 1000 events in my area\n",
    "    df = scrape_events(current_url) # scrape events page by page and store them as a df\n",
    "    dfs.append(df) # append each individual df to the dfs list\n",
    "    total_rows += len(df) # increase total rows by number of entries in the appended df\n",
    "    current_url = next_page(current_url) # set current url to the next page's url by calling next_page function\n",
    "    time.sleep(.2)\n",
    "df = pd.concat(dfs) # create an aggregate df by concatenating the dfs created in the iterations\n",
    "df = df.iloc[:1000] # limit the length to 1000 \n",
    "print(len(df)) # print length of the df to ensure it functioned correctly\n",
    "df.head()\n"
   ]
  },
  {
   "cell_type": "markdown",
   "metadata": {},
   "source": [
    "## Summary \n",
    "\n",
    "Congratulations! In this lab, you successfully developed a pipeline to scrape a website for concert event information!"
   ]
  }
 ],
 "metadata": {
  "kernelspec": {
   "display_name": "Python 3",
   "language": "python",
   "name": "python3"
  },
  "language_info": {
   "codemirror_mode": {
    "name": "ipython",
    "version": 3
   },
   "file_extension": ".py",
   "mimetype": "text/x-python",
   "name": "python",
   "nbconvert_exporter": "python",
   "pygments_lexer": "ipython3",
   "version": "3.7.4"
  }
 },
 "nbformat": 4,
 "nbformat_minor": 2
}
